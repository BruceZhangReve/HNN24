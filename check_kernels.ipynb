{
 "cells": [
  {
   "cell_type": "code",
   "execution_count": 14,
   "metadata": {},
   "outputs": [],
   "source": [
    "import sys\n",
    "sys.path.append('/data/lige/HKN')# Please change accordingly!\n",
    "import numpy as np\n",
    "import matplotlib.pyplot as plt\n",
    "import torch\n",
    "from os import makedirs\n",
    "from os.path import join, exists\n",
    "\n",
    "from manifolds.poincare import PoincareBall\n",
    "from manifolds.base import ManifoldParameter \n",
    "from optim import RiemannianAdam, RiemannianSGD\n",
    "\n",
    "from kernels.poincare_kernel_points import load_kernels\n",
    "\n",
    "# Example usage:\n",
    "manifold = PoincareBall()\n",
    "radius = 1\n",
    "num_kpoints = 8\n",
    "dimension = 64\n",
    "c=torch.tensor([1.0],dtype=torch.float64,device=torch.device('cpu'))\n",
    "kernel_tangents = load_kernels(manifold, radius, num_kpoints, dimension, random=False, c=c)\n",
    "manifold.expmap0(kernel_tangents,c=c)\n",
    "kernel_points = manifold.expmap0(kernel_tangents,c=c)"
   ]
  },
  {
   "cell_type": "code",
   "execution_count": 15,
   "metadata": {},
   "outputs": [
    {
     "name": "stdout",
     "output_type": "stream",
     "text": [
      "tensor([1.0000], dtype=torch.float64)\n",
      "tensor([1.0000], dtype=torch.float64)\n",
      "tensor([1.0000], dtype=torch.float64)\n",
      "tensor([1.0000], dtype=torch.float64)\n",
      "tensor([1.0000], dtype=torch.float64)\n",
      "tensor([1.0000], dtype=torch.float64)\n",
      "tensor([1.0000], dtype=torch.float64)\n",
      "tensor(0.4621, dtype=torch.float64)\n",
      "tensor(0.4621, dtype=torch.float64)\n",
      "tensor(0.4621, dtype=torch.float64)\n",
      "tensor(0.4621, dtype=torch.float64)\n",
      "tensor(0.4621, dtype=torch.float64)\n",
      "tensor(0.4621, dtype=torch.float64)\n",
      "tensor(0.4621, dtype=torch.float64)\n"
     ]
    }
   ],
   "source": [
    "for i in range(1,8):\n",
    "    print(torch.sqrt(manifold.sqdist(kernel_points[0],kernel_points[i],c)))\n",
    "\n",
    "#for i in range(2,8):\n",
    "    #print(torch.sqrt(manifold.sqdist(kernel_points[1],kernel_points[i],c)))\n",
    "\n",
    "for i in range(1,8):\n",
    "    print(torch.norm(kernel_points[i]))"
   ]
  }
 ],
 "metadata": {
  "kernelspec": {
   "display_name": "HKNet",
   "language": "python",
   "name": "hknet"
  }
 },
 "nbformat": 4,
 "nbformat_minor": 2
}
