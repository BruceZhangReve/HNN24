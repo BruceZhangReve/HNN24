{
 "cells": [
  {
   "cell_type": "code",
   "execution_count": 1,
   "metadata": {},
   "outputs": [
    {
     "name": "stderr",
     "output_type": "stream",
     "text": [
      "/data/lige/miniconda3/envs/HKNet/lib/python3.10/site-packages/tqdm/auto.py:22: TqdmWarning: IProgress not found. Please update jupyter and ipywidgets. See https://ipywidgets.readthedocs.io/en/stable/user_install.html\n",
      "  from .autonotebook import tqdm as notebook_tqdm\n"
     ]
    }
   ],
   "source": [
    "import sys\n",
    "sys.path.append('/data/lige/HKN')# Please change accordingly!\n",
    "import numpy as np\n",
    "import matplotlib.pyplot as plt\n",
    "import torch\n",
    "from os import makedirs\n",
    "from os.path import join, exists\n",
    "\n",
    "from manifolds.poincare import PoincareBall\n",
    "from manifolds.base import ManifoldParameter \n",
    "from optim import RiemannianAdam, RiemannianSGD\n",
    "\n",
    "from kernels.poincare_kernel_points import load_kernels\n",
    "\n",
    "# Example usage:\n",
    "manifold = PoincareBall()\n",
    "radius = 1\n",
    "num_kpoints = 8\n",
    "dimension = 64\n",
    "c=torch.tensor([1.0],dtype=torch.float64,device=torch.device('cpu'))\n",
    "kernel_tangents = load_kernels(manifold, radius, num_kpoints, dimension, random=False, c=c)\n",
    "manifold.expmap0(kernel_tangents,c=c)\n",
    "kernel_points = manifold.expmap0(kernel_tangents,c=c)"
   ]
  },
  {
   "cell_type": "code",
   "execution_count": 2,
   "metadata": {},
   "outputs": [
    {
     "name": "stdout",
     "output_type": "stream",
     "text": [
      "tensor([1.0000], dtype=torch.float64)\n",
      "tensor([1.0000], dtype=torch.float64)\n",
      "tensor([1.], dtype=torch.float64)\n",
      "tensor([1.0000], dtype=torch.float64)\n",
      "tensor([1.0000], dtype=torch.float64)\n",
      "tensor([1.], dtype=torch.float64)\n",
      "tensor([1.], dtype=torch.float64)\n",
      "tensor(0.4621, dtype=torch.float64)\n",
      "tensor(0.4621, dtype=torch.float64)\n",
      "tensor(0.4621, dtype=torch.float64)\n",
      "tensor(0.4621, dtype=torch.float64)\n",
      "tensor(0.4621, dtype=torch.float64)\n",
      "tensor(0.4621, dtype=torch.float64)\n",
      "tensor(0.4621, dtype=torch.float64)\n"
     ]
    }
   ],
   "source": [
    "for i in range(1,8):\n",
    "    print(torch.sqrt(manifold.sqdist(kernel_points[0],kernel_points[i],c)))\n",
    "\n",
    "#for i in range(2,8):\n",
    "    #print(torch.sqrt(manifold.sqdist(kernel_points[1],kernel_points[i],c)))\n",
    "\n",
    "for i in range(1,8):\n",
    "    print(torch.norm(kernel_points[i]))"
   ]
  }
 ],
 "metadata": {
  "kernelspec": {
   "display_name": "HKNet",
   "language": "python",
   "name": "hknet"
  },
  "language_info": {
   "codemirror_mode": {
    "name": "ipython",
    "version": 3
   },
   "file_extension": ".py",
   "mimetype": "text/x-python",
   "name": "python",
   "nbconvert_exporter": "python",
   "pygments_lexer": "ipython3",
   "version": "3.10.6"
  }
 },
 "nbformat": 4,
 "nbformat_minor": 2
}
