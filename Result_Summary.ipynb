{
 "cells": [
  {
   "cell_type": "markdown",
   "metadata": {},
   "source": [
    "# Node Classification"
   ]
  },
  {
   "cell_type": "code",
   "execution_count": 1,
   "metadata": {},
   "outputs": [
    {
     "name": "stdout",
     "output_type": "stream",
     "text": [
      "Num Samples: 5\n",
      "cornell Mean: 0.8545456\n",
      "cornell Standard Deviation: 0.04215271527481949\n"
     ]
    }
   ],
   "source": [
    "import numpy as np\n",
    "cornell= np.array([0.909091,0.818182,0.886364,0.863636,0.795455])\n",
    "print(\"Num Samples:\", len(cornell))\n",
    "print(\"cornell Mean:\", np.mean(cornell))\n",
    "print(\"cornell Standard Deviation:\", np.std(cornell))"
   ]
  },
  {
   "cell_type": "code",
   "execution_count": 2,
   "metadata": {},
   "outputs": [
    {
     "name": "stdout",
     "output_type": "stream",
     "text": [
      "Num Samples: 5\n",
      "texas Mean: 0.8954546000000001\n",
      "texas Standard Deviation: 0.042152672141158525\n"
     ]
    }
   ],
   "source": [
    "texas= np.array([0.886364,0.909091,0.931818,0.818182,0.931818])\n",
    "print(\"Num Samples:\", len(texas))\n",
    "print(\"texas Mean:\", np.mean(texas))\n",
    "print(\"texas Standard Deviation:\", np.std(texas))"
   ]
  },
  {
   "cell_type": "code",
   "execution_count": 5,
   "metadata": {},
   "outputs": [
    {
     "name": "stdout",
     "output_type": "stream",
     "text": [
      "Num Samples: 5\n",
      "actor Mean: 0.6304578\n",
      "actor Standard Deviation: 0.03646144757082473\n"
     ]
    }
   ],
   "source": [
    "actor= np.array([0.643237,0.560703,0.641640,0.668264,0.638445])\n",
    "print(\"Num Samples:\", len(actor))\n",
    "print(\"actor Mean:\", np.mean(actor))\n",
    "print(\"actor Standard Deviation:\", np.std(actor))"
   ]
  },
  {
   "cell_type": "markdown",
   "metadata": {},
   "source": []
  },
  {
   "cell_type": "code",
   "execution_count": 2,
   "metadata": {},
   "outputs": [
    {
     "name": "stdout",
     "output_type": "stream",
     "text": [
      "Num Samples: 3\n",
      "Mean: 0.7606836666666666 Standard Deviation: 0.009496915475856176\n"
     ]
    }
   ],
   "source": [
    "a= np.array([ 0.767399, 0.747253, 0.767399])\n",
    "print(\"Num Samples:\", len(a))\n",
    "print(\"Mean:\", np.mean(a),\"Standard Deviation:\", np.std(a))"
   ]
  }
 ],
 "metadata": {
  "kernelspec": {
   "display_name": "HKNet",
   "language": "python",
   "name": "hknet"
  },
  "language_info": {
   "codemirror_mode": {
    "name": "ipython",
    "version": 3
   },
   "file_extension": ".py",
   "mimetype": "text/x-python",
   "name": "python",
   "nbconvert_exporter": "python",
   "pygments_lexer": "ipython3",
   "version": "3.10.6"
  }
 },
 "nbformat": 4,
 "nbformat_minor": 2
}
